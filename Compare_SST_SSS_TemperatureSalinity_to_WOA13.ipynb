{
 "cells": [
  {
   "cell_type": "markdown",
   "metadata": {},
   "source": [
    "# Compare Temperature and Salinity from ACCESS-OM2 to WOA13\n",
    "\n",
    "This notebook shows examples of comparing ACCESS-OM2 Temperature and Salinity structure to the WOA13 climatology (that is used as initial conditions for most runs). We describe the location and setup of the WOA13 data interpolated onto the model grids, as well as plot SST and SSS anomalies along with equatorial slices of temperature and salinity anomalies."
   ]
  },
  {
   "cell_type": "markdown",
   "metadata": {},
   "source": [
    "First, lets load in some modules, call some workers and load a database"
   ]
  },
  {
   "cell_type": "code",
   "execution_count": null,
   "metadata": {},
   "outputs": [],
   "source": [
    "%matplotlib inline\n",
    "%matplotlib inline\n",
    "\n",
    "import matplotlib.pyplot as plt\n",
    "import xarray as xr\n",
    "import numpy as np\n",
    "import cftime\n",
    "\n",
    "import IPython.display\n",
    "import cmocean as cm\n",
    "import cartopy.crs as ccrs\n",
    "import cartopy.feature as cft\n",
    "import sys, os, warnings\n",
    "\n",
    "import cosima_cookbook as cc\n",
    "\n",
    "from dask.distributed import Client"
   ]
  },
  {
   "cell_type": "code",
   "execution_count": 4,
   "metadata": {},
   "outputs": [
    {
     "data": {
      "text/html": [
       "<table style=\"border: 2px solid white;\">\n",
       "<tr>\n",
       "<td style=\"vertical-align: top; border: 0px solid white\">\n",
       "<h3 style=\"text-align: left;\">Client</h3>\n",
       "<ul style=\"text-align: left; list-style: none; margin: 0; padding: 0;\">\n",
       "  <li><b>Scheduler: </b>tcp://127.0.0.1:62575</li>\n",
       "  <li><b>Dashboard: </b><a href='http://127.0.0.1:8787/status' target='_blank'>http://127.0.0.1:8787/status</a></li>\n",
       "</ul>\n",
       "</td>\n",
       "<td style=\"vertical-align: top; border: 0px solid white\">\n",
       "<h3 style=\"text-align: left;\">Cluster</h3>\n",
       "<ul style=\"text-align: left; list-style:none; margin: 0; padding: 0;\">\n",
       "  <li><b>Workers: </b>4</li>\n",
       "  <li><b>Cores: </b>4</li>\n",
       "  <li><b>Memory: </b>11.89 GiB</li>\n",
       "</ul>\n",
       "</td>\n",
       "</tr>\n",
       "</table>"
      ],
      "text/plain": [
       "<Client: 'tcp://127.0.0.1:62575' processes=4 threads=4, memory=11.89 GiB>"
      ]
     },
     "execution_count": 4,
     "metadata": {},
     "output_type": "execute_result"
    }
   ],
   "source": [
    "client = Client()\n",
    "client"
   ]
  },
  {
   "cell_type": "code",
   "execution_count": 1,
   "metadata": {},
   "outputs": [
    {
     "ename": "NameError",
     "evalue": "name 'cc' is not defined",
     "output_type": "error",
     "traceback": [
      "\u001b[1;31m---------------------------------------------------------------------------\u001b[0m",
      "\u001b[1;31mNameError\u001b[0m                                 Traceback (most recent call last)",
      "\u001b[1;32m<ipython-input-1-752c2664298f>\u001b[0m in \u001b[0;36m<module>\u001b[1;34m\u001b[0m\n\u001b[1;32m----> 1\u001b[1;33m \u001b[0msession\u001b[0m \u001b[1;33m=\u001b[0m \u001b[0mcc\u001b[0m\u001b[1;33m.\u001b[0m\u001b[0mdatabase\u001b[0m\u001b[1;33m.\u001b[0m\u001b[0mcreate_session\u001b[0m\u001b[1;33m(\u001b[0m\u001b[1;33m)\u001b[0m\u001b[1;33m\u001b[0m\u001b[1;33m\u001b[0m\u001b[0m\n\u001b[0m",
      "\u001b[1;31mNameError\u001b[0m: name 'cc' is not defined"
     ]
    }
   ],
   "source": [
    "session = cc.database.create_session()"
   ]
  },
  {
   "cell_type": "markdown",
   "metadata": {},
   "source": [
    "## WOA13 data\n",
    "\n",
    "The WOA13 data has already been interpolated onto the various model grids (as it is used for initial conditions). This makes it easy to plot biases.\n",
    "\n",
    "The WOA13 data is located in the `/g/data/hh5/tmp/cosima/woa13/` folder, with various subfolders for the different resolutions (including the different vertical grids such as KDS50, KDS75 etc.). The available interpolated versions are (see `/g/data/hh5/tmp/cosima/woa13/README/`:\n",
    "\n",
    "- `woa13/10` - 1-degree, GFDL50 vertical levels scheme\n",
    "- `woa13/025` - 1/4-degree, GFDL50 vertical levels scheme\n",
    "- `woa13/01` - 1/10-degree, KDS75 vertical levels scheme\n",
    "- `woa13/10_KDS50` - 1-degree, KDS50 vertical levels scheme\n",
    "- `woa13/025_KDS50` - 1/4-degree, KDS50 vertical levels scheme\n",
    "\n",
    "Note that the new ACCESS-OM2 runs all use the KDS vertical levels schemes (KDS50 at 1-degree and 1/4-degree, KDS75 at 1/10-degree).\n",
    "\n",
    "Let's first explore some of this data by looking at the 1-degree KDS50 experiment. First the netcdf files. Note that currently, because of the folder structure of the WOA13 data, the experiment names can be a bit opaque as they do not contain the woa13 string. Here we examine the 1-degree KDS50 data"
   ]
  },
  {
   "cell_type": "code",
   "execution_count": 10,
   "metadata": {},
   "outputs": [
    {
     "ename": "NameError",
     "evalue": "name 'session' is not defined",
     "output_type": "error",
     "traceback": [
      "\u001b[1;31m---------------------------------------------------------------------------\u001b[0m",
      "\u001b[1;31mNameError\u001b[0m                                 Traceback (most recent call last)",
      "\u001b[1;32m<ipython-input-10-102e48d95127>\u001b[0m in \u001b[0;36m<module>\u001b[1;34m\u001b[0m\n\u001b[1;32m----> 1\u001b[1;33m \u001b[0mcc\u001b[0m\u001b[1;33m.\u001b[0m\u001b[0mquerying\u001b[0m\u001b[1;33m.\u001b[0m\u001b[0mget_ncfiles\u001b[0m\u001b[1;33m(\u001b[0m\u001b[0msession\u001b[0m\u001b[1;33m,\u001b[0m\u001b[0mexperiment\u001b[0m\u001b[1;33m=\u001b[0m\u001b[1;34m'10_KDS50'\u001b[0m\u001b[1;33m)\u001b[0m\u001b[1;33m\u001b[0m\u001b[1;33m\u001b[0m\u001b[0m\n\u001b[0m",
      "\u001b[1;31mNameError\u001b[0m: name 'session' is not defined"
     ]
    }
   ],
   "source": [
    "cc.querying.get_ncfiles(session,experiment='10_KDS50')"
   ]
  },
  {
   "cell_type": "markdown",
   "metadata": {},
   "source": [
    "The `ocean_temp_salt.res.nc` is the initial conditions file - we don't want to use this for plotting. Finally, the variables:"
   ]
  },
  {
   "cell_type": "code",
   "execution_count": null,
   "metadata": {},
   "outputs": [],
   "source": [
    "cc.querying.get_variables(session,experiment='10_KDS50')"
   ]
  },
  {
   "cell_type": "markdown",
   "metadata": {},
   "source": [
    "## Comparing to ACCESS-OM2 simulations\n",
    "\n",
    "Now lets plot some biases against the WOA13 data set. We will use the original ACCESS-OM2 IAF runs, so first define a dictionary with information on those runs"
   ]
  },
  {
   "cell_type": "code",
   "execution_count": null,
   "metadata": {},
   "outputs": [],
   "source": [
    "from collections import OrderedDict\n",
    "exptdict = OrderedDict([\n",
    "    ('1degIAF', # 1deg IAF run from Kiss et al. 2020\n",
    "     {'model': 'ACCESS-OM2 IAF', 'expt': '1deg_jra55v13_iaf_spinup1_B1',\n",
    "      'n_files': -12, 'itime': '1998-01-01', 'ftime': None}),\n",
    "    ('025degIAF', # 025deg IAF run from Kiss et al. 2020\n",
    "     {'model': 'ACCESS-OM2-025 IAF', 'expt': '025deg_jra55v13_iaf_gmredi6',\n",
    "      'n_files': -34, 'itime': '1998-01-01', 'ftime': None}),\n",
    "    ('01degIAF', # 01deg IAF run from Kiss et al. 2020\n",
    "     {'model': 'ACCESS-OM2-01 IAF',  'expt': '01deg_jra55v13_iaf',\n",
    "      'n_files': None, 'itime': '1998-01-01','ftime': None})\n",
    "])"
   ]
  },
  {
   "cell_type": "markdown",
   "metadata": {},
   "source": [
    "For each of these runs we then attach information to these dictionaries containing the matched WOA13 interpolated data sets. Note that we include a file name (with wildcards) so that we only use the monthly files and not the additional `ocean_temp_salt.res.nc` initial condition file."
   ]
  },
  {
   "cell_type": "code",
   "execution_count": null,
   "metadata": {},
   "outputs": [],
   "source": [
    "# Add on pre-interpolated WOA13 directories for every run:\n",
    "for ekey in exptdict.keys():\n",
    "    e = exptdict[ekey]\n",
    "    if (ekey.find('025deg') != -1):\n",
    "        e['WOA13expt'] = '025_KDS50'\n",
    "        e['WOA13file'] = 'woa13_ts_??_mom025.nc'\n",
    "    elif (ekey.find('01deg') != -1):\n",
    "        e['WOA13expt'] = '01'\n",
    "        e['WOA13file'] = 'woa13_ts_??_mom01.nc'\n",
    "    else:\n",
    "        e['WOA13expt'] = '10_KDS50'\n",
    "        e['WOA13file'] = 'woa13_ts_??_mom10.nc'"
   ]
  },
  {
   "cell_type": "markdown",
   "metadata": {},
   "source": [
    "## SST and SSS biases\n",
    "\n",
    "We will start by plotting SST and SSS biases compared to WOA13. The following loop loads data from the model runs and the corresponding WOA13 data and saves them into the previous dictionary (as entries SST, SST_WOA13 and SST_anom and the same for SSS). This can take time..."
   ]
  },
  {
   "cell_type": "code",
   "execution_count": null,
   "metadata": {},
   "outputs": [],
   "source": [
    "# Function to extract and load SST and SSS from the models, WOA13\n",
    "ekeys = ['1degIAF', '025degIAF', '01degIAF']\n",
    "for ekey in ekeys:\n",
    "    e = exptdict[ekey]\n",
    "    \n",
    "    # SST\n",
    "    # -----\n",
    "    \n",
    "    # Load surface temperature from model\n",
    "    surface_temp = cc.querying.getvar(e['expt'], 'temp', session,\n",
    "                            n=e['n_files'], ncfile='ocean.nc',\n",
    "                 start_time=e['itime'], end_time=e['ftime']).isel(st_ocean=0)\n",
    "    \n",
    "    # Extract a year range string and print (for title string):\n",
    "    e['yearrange'] = \"{} to {}\".format(\n",
    "        surface_temp.time.item(0).strftime(\"%Y-%m\"),\n",
    "        surface_temp.time.item(-1).strftime(\"%Y-%m\"),\n",
    "    )\n",
    "    print(f\"{ekey}: {e['yearrange']}\")\n",
    "    \n",
    "    # Add SST to dictionary\n",
    "    e['SST'] = surface_temp.mean('time').load() - 273.15\n",
    "    \n",
    "    # Load WOA13 SST and add to dictionary\n",
    "    # ignore warning about ambiguous files\n",
    "    with warnings.catch_warnings():\n",
    "        warnings.simplefilter(\"ignore\", UserWarning)\n",
    "        e['SST_WOA13'] = cc.querying.getvar(e['WOA13expt'], 'temp', session).isel(ZT=0).mean('time').load()\n",
    "    \n",
    "    # Calculate bias and add to dictionary\n",
    "    SST_anom = e['SST'] - e['SST_WOA13'].values \n",
    "    e['SST_anom'] = SST_anom.load()\n",
    "    \n",
    "    # SSS\n",
    "    # -----\n",
    "    surface_salt = cc.querying.getvar(e['expt'], 'salt', session,\n",
    "                            n=e['n_files'],ncfile='ocean.nc',\n",
    "                 start_time=e['itime'], end_time=e['ftime']).isel(st_ocean=0)\n",
    "    e['SSS'] = surface_salt.mean('time').load()\n",
    "    with warnings.catch_warnings():\n",
    "        warnings.simplefilter(\"ignore\", UserWarning)\n",
    "        e['SSS_WOA13'] = cc.querying.getvar(e['WOA13expt'], 'salt',session).isel(ZT=0).mean('time').load()\n",
    "    SSS_anom = e['SSS'] - e['SSS_WOA13'].values \n",
    "    e['SSS_anom'] = SSS_anom.load()"
   ]
  },
  {
   "cell_type": "markdown",
   "metadata": {},
   "source": [
    "Now that all the data is loaded, all we have to do is plot it.\n",
    "\n",
    "We first define a function to plot the SST"
   ]
  },
  {
   "cell_type": "code",
   "execution_count": null,
   "metadata": {},
   "outputs": [],
   "source": [
    "def plot_SST(ekeys):\n",
    "    clev = np.arange(-3,3.25,0.25)\n",
    "    land_50m = cft.NaturalEarthFeature('physical', 'land', '50m',\n",
    "                                            edgecolor='black',\n",
    "                                            facecolor='gray', linewidth=0.5)\n",
    "\n",
    "    for i, ekey in enumerate(ekeys):\n",
    "        e = exptdict[ekey]\n",
    "        ax1 = plt.subplot(1+len(ekeys)//2,2,i+1,projection=ccrs.Robinson(central_longitude=-100))\n",
    "        ax1.coastlines(resolution='50m')\n",
    "        ax1.add_feature(land_50m)\n",
    "        pn = e['SST_anom'].plot.contourf(cmap=cm.cm.balance, levels=clev, add_colorbar=False, transform=ccrs.PlateCarree())\n",
    "        plt.title(\"({}) {}, {}\".format(chr(ord('a') + i), e['model'], e['yearrange']))\n",
    "        \n",
    "        if i == 1:\n",
    "            # save plot for colourbar\n",
    "            p0 = pn\n",
    "\n",
    "    i = i+1\n",
    "    e = exptdict['01degIAF']\n",
    "    ax1 = plt.subplot(1+len(ekeys)//2, 2, i+1, projection=ccrs.Robinson(central_longitude=-100))\n",
    "    ax1.coastlines(resolution='50m')\n",
    "    ax1.add_feature(land_50m)\n",
    "    pn = e['SST_WOA13'].plot.contourf(cmap=cm.cm.thermal,levels=np.arange(-2.,32.,1.),add_colorbar=False,transform=ccrs.PlateCarree())\n",
    "    plt.title(\"({}) WOA13\".format(chr(ord('a') + i)))\n",
    "\n",
    "    ax5 = plt.axes([0.92,0.52,0.01,0.33])\n",
    "    cb = plt.colorbar(p0, cax=ax5, orientation='vertical')\n",
    "    cb.ax.set_ylabel('SST anomaly (°C)')\n",
    "\n",
    "    ax6 = plt.axes([0.92,0.13,0.01,0.33])\n",
    "    cb = plt.colorbar(pn, cax=ax6, orientation='vertical')\n",
    "    cb.ax.set_ylabel('SST (°C)')"
   ]
  },
  {
   "cell_type": "markdown",
   "metadata": {},
   "source": [
    "and then we plot it"
   ]
  },
  {
   "cell_type": "code",
   "execution_count": null,
   "metadata": {},
   "outputs": [],
   "source": [
    "# Plot IAF and RYF SST biases at 3 resolutions:\n",
    "fig = plt.figure(figsize=(14, 10))\n",
    "ekeys = ['01degIAF', '025degIAF', '1degIAF']\n",
    "plot_SST(ekeys)\n",
    "#savefigure('SST_bias_IAF_RYF')"
   ]
  },
  {
   "cell_type": "markdown",
   "metadata": {},
   "source": [
    "Then we do the same for sea surface salinity biases"
   ]
  },
  {
   "cell_type": "code",
   "execution_count": null,
   "metadata": {},
   "outputs": [],
   "source": [
    "def plot_SSS(ekeys):\n",
    "    clev = np.arange(-1.5, 1.6, 0.1)\n",
    "    land_50m = cft.NaturalEarthFeature('physical', 'land', '50m',\n",
    "                                            edgecolor='black',\n",
    "                                            facecolor='gray',linewidth=0.5)\n",
    "\n",
    "    for i, ekey in enumerate(ekeys):\n",
    "        e = exptdict[ekey]\n",
    "        ax1 = plt.subplot(1+len(ekeys)//2, 2, i+1, projection=ccrs.Robinson(central_longitude=-100))\n",
    "        ax1.coastlines(resolution='50m')\n",
    "        ax1.add_feature(land_50m)\n",
    "        pn = e['SSS_anom'].plot.contourf(cmap=cm.cm.balance, levels=clev, add_colorbar=False, transform=ccrs.PlateCarree())\n",
    "        plt.title(\"({}) {}, {}\".format(chr(ord('a') + i), e['model'], e['yearrange']))\n",
    "        \n",
    "        if i == 1:\n",
    "            # save plot for colourbar\n",
    "            p0 = pn\n",
    "\n",
    "    i = i+1\n",
    "    e = exptdict['01degIAF']\n",
    "    ax1 = plt.subplot(1+len(ekeys)//2,2,i+1,projection=ccrs.Robinson(central_longitude=-100))\n",
    "    ax1.coastlines(resolution='50m')\n",
    "    ax1.add_feature(land_50m)\n",
    "    pn = e['SSS_WOA13'].plot.contourf(cmap=cm.cm.thermal, levels=np.arange(31., 36.2, 0.2), add_colorbar=False,transform=ccrs.PlateCarree())\n",
    "    plt.title(\"({}) WOA13\".format(chr(ord('a') + i)))\n",
    "\n",
    "    ax5 = plt.axes([0.92, 0.52, 0.01, 0.33])\n",
    "    cb = plt.colorbar(p0, cax=ax5, orientation='vertical')\n",
    "    cb.ax.set_ylabel('SSS anomaly (psu)')\n",
    "\n",
    "    ax6 = plt.axes([0.92, 0.13, 0.01, 0.33])\n",
    "    cb = plt.colorbar(pn, cax=ax6, orientation='vertical')\n",
    "    cb.ax.set_ylabel('SSS (psu)')"
   ]
  },
  {
   "cell_type": "code",
   "execution_count": null,
   "metadata": {},
   "outputs": [],
   "source": [
    "# Plot IAF and RYF SSS biases at 3 resolutions:\n",
    "fig = plt.figure(figsize=(14, 10))\n",
    "ekeys = ['01degIAF', '025degIAF', '1degIAF']\n",
    "plot_SSS(ekeys)\n",
    "#savefigure('SSS_bias_IAF_RYF')"
   ]
  },
  {
   "cell_type": "markdown",
   "metadata": {},
   "source": [
    "## Equatorial Pacific Temperature and Salinity Longitude-depth biases\n",
    "\n",
    "Our final example compares temperature and salinity biases in the tropical Pacific (note, this overlaps somewhat with the `Equatorial_thermal_and_zonal_velocity_structure.ipynb` documented example).\n",
    "\n",
    "We follow the same procedure as before, first loading the data."
   ]
  },
  {
   "cell_type": "code",
   "execution_count": null,
   "metadata": {},
   "outputs": [],
   "source": [
    "# Define list of experiments to load (useful for testing):\n",
    "ekeys = ['1degIAF', '025degIAF', '01degIAF']\n",
    "\n",
    "# Loop through models\n",
    "for ekey in ekeys:\n",
    "    e = exptdict[ekey]\n",
    "    \n",
    "    # Load temperature\n",
    "    eq_temp = cc.querying.getvar(e['expt'], 'temp',session,\n",
    "                 n=e['n_files'], ncfile='ocean.nc',\n",
    "                 start_time=e['itime'], end_time=e['ftime']).sel(yt_ocean=0, method='nearest')\n",
    "    \n",
    "    # Set a text string to add the year range in title.\n",
    "    e['yearrange'] = \"{} to {}\".format(\n",
    "        eq_temp.time.item(0).strftime(\"%Y-%m\"),\n",
    "        eq_temp.time.item(-1).strftime(\"%Y-%m\"),\n",
    "    )\n",
    "    print(f\"{ekey}: {e['yearrange']}\")\n",
    "    \n",
    "    # Extract the WOA13 data\n",
    "    with warnings.catch_warnings():\n",
    "        warnings.simplefilter(\"ignore\", UserWarning)\n",
    "        e['eq_temp_WOA13'] = cc.querying.getvar(e['WOA13expt'], 'temp', session).sel(GRID_Y_T=0., method='nearest').mean('time')\n",
    "    \n",
    "    # Calculate the bias\n",
    "    eq_temp_anom = eq_temp.mean('time') - 273.15 - e['eq_temp_WOA13'].values\n",
    "    eq_temp_anom.attrs['units'] = 'degrees Celsius'\n",
    "    \n",
    "    e['eq_temp_anom'] = eq_temp_anom.load()\n",
    "    \n",
    "    # Do salt as for temperature above\n",
    "    eq_salt = cc.querying.getvar(e['expt'], 'salt',session,\n",
    "                 n=e['n_files'], ncfile='ocean.nc',\n",
    "                 start_time=e['itime'], end_time=e['ftime']).sel(yt_ocean=0,method='nearest')\n",
    "    with warnings.catch_warnings():\n",
    "        warnings.simplefilter(\"ignore\", UserWarning)\n",
    "        e['eq_salt_WOA13'] = cc.querying.getvar(e['WOA13expt'], 'salt',session).sel(GRID_Y_T=0.,method='nearest').mean('time')\n",
    "    eq_salt_anom = eq_salt.mean('time') - e['eq_salt_WOA13'].values\n",
    "    e['eq_salt_anom'] = eq_salt_anom.load()"
   ]
  },
  {
   "cell_type": "markdown",
   "metadata": {},
   "source": [
    "Then plotting equatorial plots of temperature biases"
   ]
  },
  {
   "cell_type": "code",
   "execution_count": null,
   "metadata": {},
   "outputs": [],
   "source": [
    "# Define a function to plot Equatorial Slices of temperature:\n",
    "def plot_eqtemp(ekeys):\n",
    "    \n",
    "    # Define contour levels\n",
    "    clev = np.arange(-3.,3.25,0.25)\n",
    "\n",
    "    # Loop through models\n",
    "    for i, ekey in enumerate(ekeys):\n",
    "        e = exptdict[ekey]\n",
    "        ax1 = plt.subplot(int(np.ceil(len(ekeys)/2)),2,i+1)\n",
    "        \n",
    "        # Plot bias as color\n",
    "        pn = e['eq_temp_anom'].plot.contourf(cmap='bwr', levels=clev, add_colorbar=False, yincrease=False)\n",
    "        \n",
    "        # Plot WOA13 isotherms (and 20C bold)\n",
    "        CS = e['eq_temp_WOA13'].plot.contour(levels=np.arange(0, 32, 2), colors='k')\n",
    "        ax1.clabel(CS, inline=False, fmt='%d', fontsize=15)\n",
    "        e['eq_temp_WOA13'].plot.contour(levels=[20.], colors='k', linewidths=3.)\n",
    "        (e['eq_temp_anom']+e['eq_temp_WOA13'].values).plot.contour(levels=[20.], colors='k', linewidths=3., linestyles='--')\n",
    "        \n",
    "        # Add annotations\n",
    "        plt.title(\"({}) {},  {}\".format(chr(ord('a') + i), e['model'], e['yearrange']))\n",
    "        ax1.set_ylim([300., 0.])\n",
    "        ax1.set_xlim([-220., -80.])\n",
    "        ax1.set_ylabel('Depth (m)')\n",
    "        ax1.set_xlabel('Longitude ($^\\circ$E)')\n",
    "        \n",
    "        if i == 0:\n",
    "            ax1.text(-210., 275., 'WOA13 Isotherms', fontsize=15)\n",
    "            p0 = pn\n",
    "\n",
    "    # Add colorbar\n",
    "    ax5 = plt.axes([0.92, 0.2, 0.01, 0.5])\n",
    "    cb = plt.colorbar(p0, cax=ax5, orientation='vertical')\n",
    "    cb.ax.set_ylabel('Temperature anomaly (°C)')"
   ]
  },
  {
   "cell_type": "code",
   "execution_count": null,
   "metadata": {},
   "outputs": [],
   "source": [
    "# Plot comparison of IAF simulations for temperature\n",
    "fig = plt.figure(figsize=(14, 12))\n",
    "ekeys = ['1degIAF', '025degIAF', '01degIAF']\n",
    "plot_eqtemp(ekeys)"
   ]
  },
  {
   "cell_type": "markdown",
   "metadata": {},
   "source": [
    "And finally the same thing for salinity"
   ]
  },
  {
   "cell_type": "code",
   "execution_count": null,
   "metadata": {},
   "outputs": [],
   "source": [
    "# Define a function to plot Equatorial Slices of salinity\n",
    "def plot_eqsalt(ekeys):\n",
    "    \n",
    "    # Define contour levels\n",
    "    clev = np.arange(-1., 1.1, 0.1)\n",
    "\n",
    "    # Loop through models\n",
    "    for i, ekey in enumerate(ekeys):\n",
    "        e = exptdict[ekey]\n",
    "        ax1 = plt.subplot(int(np.ceil(len(ekeys)/2)), 2, i+1)\n",
    "        \n",
    "        # Plot bias as color\n",
    "        pn = e['eq_salt_anom'].plot.contourf(cmap='bwr', levels=clev, add_colorbar=False, yincrease=False)\n",
    "        \n",
    "        # Plot WOA13 salinity (and 20C bold)\n",
    "        CS = e['eq_salt_WOA13'].plot.contour(levels=np.arange(30., 36.1, 0.1), colors='k')\n",
    "        ax1.clabel(CS, inline=False, fmt='%3.2f', fontsize=15)\n",
    "        \n",
    "        # Add annotations\n",
    "        plt.title(\"({}) {}, {}\".format(chr(ord('a') + i), e['model'], e['yearrange']))\n",
    "        ax1.set_ylim([300.,0.])\n",
    "        ax1.set_xlim([-220.,-80.])\n",
    "        ax1.set_ylabel('Depth (m)')\n",
    "        ax1.set_xlabel('Longitude ($^\\circ$E)')\n",
    "        \n",
    "        if i == 0:\n",
    "            ax1.text(-210., 275., 'WOA13 Isohalines', fontsize=15)\n",
    "            p0 = pn\n",
    "\n",
    "    # Add colorbar\n",
    "    ax5 = plt.axes([0.92, 0.2, 0.01, 0.5])\n",
    "    cb = plt.colorbar(p0, cax=ax5, orientation='vertical')\n",
    "    cb.ax.set_ylabel('Salinity anomaly (psu)')"
   ]
  },
  {
   "cell_type": "code",
   "execution_count": null,
   "metadata": {},
   "outputs": [],
   "source": [
    "# Plot comparing IAF simulations for salinity\n",
    "fig = plt.figure(figsize=(14, 12))\n",
    "ekeys = ['1degIAF', '025degIAF', '01degIAF']\n",
    "plot_eqsalt(ekeys)"
   ]
  }
 ],
 "metadata": {
  "kernelspec": {
   "display_name": "Python 3",
   "language": "python",
   "name": "python3"
  },
  "language_info": {
   "codemirror_mode": {
    "name": "ipython",
    "version": 3
   },
   "file_extension": ".py",
   "mimetype": "text/x-python",
   "name": "python",
   "nbconvert_exporter": "python",
   "pygments_lexer": "ipython3",
   "version": "3.8.8"
  }
 },
 "nbformat": 4,
 "nbformat_minor": 4
}
